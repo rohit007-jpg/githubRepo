{
  "nbformat": 4,
  "nbformat_minor": 0,
  "metadata": {
    "colab": {
      "name": "Testing Google Colab.ipynb",
      "private_outputs": true,
      "provenance": [],
      "authorship_tag": "ABX9TyPuR5axwzCbsrykmCMCkzRS",
      "include_colab_link": true
    },
    "kernelspec": {
      "name": "python3",
      "display_name": "Python 3"
    },
    "language_info": {
      "name": "python"
    }
  },
  "cells": [
    {
      "cell_type": "markdown",
      "metadata": {
        "id": "view-in-github",
        "colab_type": "text"
      },
      "source": [
        "<a href=\"https://colab.research.google.com/github/rohit007-jpg/githubRepo/blob/master/Testing_Google_Colab.ipynb\" target=\"_parent\"><img src=\"https://colab.research.google.com/assets/colab-badge.svg\" alt=\"Open In Colab\"/></a>"
      ]
    },
    {
      "cell_type": "code",
      "metadata": {
        "id": "yIDb8u9-rdGN"
      },
      "source": [
        "print(\"Hello World\")"
      ],
      "execution_count": null,
      "outputs": []
    },
    {
      "cell_type": "code",
      "metadata": {
        "id": "UQL148sPsfDU"
      },
      "source": [
        "a=10\n",
        "b=20  "
      ],
      "execution_count": null,
      "outputs": []
    },
    {
      "cell_type": "code",
      "metadata": {
        "id": "OwLDZ7YYsesV"
      },
      "source": [
        "c=a+b\n",
        "print(c)"
      ],
      "execution_count": null,
      "outputs": []
    },
    {
      "cell_type": "markdown",
      "metadata": {
        "id": "Zf4Kg6LctLdM"
      },
      "source": [
        "Documentation\n",
        "#Heading 1\n",
        "##Heading 2\n",
        "###Heading 3\n",
        "**Bold**\n",
        "*Italic*\n",
        "#We can use LaTex For writing Mathematical Equation \n",
        "example : $e^x$\n",
        "\n"
      ]
    },
    {
      "cell_type": "code",
      "metadata": {
        "id": "FlwmBFjtuvxC"
      },
      "source": [
        "import pandas as pd\n",
        "import numpy as np\n",
        "import distance\n",
        "\n",
        "#most of the pakages are preinstalled in Google Coalb environment but some of them you need to install on your own, like distance "
      ],
      "execution_count": null,
      "outputs": []
    },
    {
      "cell_type": "code",
      "metadata": {
        "id": "3Sw2GfQZvXwU"
      },
      "source": [
        "#installing package manually \n",
        "!pip install distance"
      ],
      "execution_count": null,
      "outputs": []
    },
    {
      "cell_type": "markdown",
      "metadata": {
        "id": "8DtyBwFdwMzb"
      },
      "source": [
        "As we are learning DS. We need data to play, so in order to play with data, we first upload the data. \n",
        "\n",
        "Loading Dataset\n",
        "\n",
        "1. From Local System \n"
      ]
    },
    {
      "cell_type": "code",
      "metadata": {
        "id": "eBpbLFzAvjeM"
      },
      "source": [
        "from google.colab import files\n",
        "files=files.upload()"
      ],
      "execution_count": null,
      "outputs": []
    },
    {
      "cell_type": "code",
      "metadata": {
        "id": "vDI8F6w-xZu9"
      },
      "source": [
        "data=pd.read_csv('iris.csv')\n",
        "data.head()"
      ],
      "execution_count": null,
      "outputs": []
    },
    {
      "cell_type": "markdown",
      "metadata": {
        "id": "LYECqEznyB6W"
      },
      "source": [
        "2. From Google Drive"
      ]
    },
    {
      "cell_type": "code",
      "metadata": {
        "id": "NeapQ5NpyHNt"
      },
      "source": [
        "from google.colab import drive  \n",
        "drive.mount('/content/drive')\n",
        "#this is provide you a link, we need to click on this link and sign in to the account and copy the authentication code and paste it here. "
      ],
      "execution_count": null,
      "outputs": []
    },
    {
      "cell_type": "code",
      "metadata": {
        "id": "KmpZyaAuzY51"
      },
      "source": [
        "!ls"
      ],
      "execution_count": null,
      "outputs": []
    },
    {
      "cell_type": "markdown",
      "metadata": {
        "id": "pI84QH-H0SK8"
      },
      "source": [
        "3. Wget Extention help us to download large data in very less time, over internet. "
      ]
    },
    {
      "cell_type": "code",
      "metadata": {
        "id": "x3s9KEC70hjP"
      },
      "source": [
        ""
      ],
      "execution_count": null,
      "outputs": []
    }
  ]
}